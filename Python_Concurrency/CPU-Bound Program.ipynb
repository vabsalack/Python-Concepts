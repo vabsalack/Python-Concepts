{
 "cells": [
  {
   "cell_type": "markdown",
   "id": "1befa931",
   "metadata": {},
   "source": [
    "__Synchronous Version__"
   ]
  },
  {
   "cell_type": "code",
   "execution_count": 1,
   "id": "e5e64d84",
   "metadata": {},
   "outputs": [
    {
     "name": "stdout",
     "output_type": "stream",
     "text": [
      "Duration 7.714542865753174 seconds\n"
     ]
    }
   ],
   "source": [
    "import time\n",
    "\n",
    "\n",
    "def cpu_bound(number):\n",
    "    return sum(i * i for i in range(number))\n",
    "\n",
    "\n",
    "def find_sums(numbers):\n",
    "    for number in numbers:\n",
    "        cpu_bound(number)\n",
    "\n",
    "\n",
    "if __name__ == \"__main__\":\n",
    "    numbers = [5_000_000 + x for x in range(20)]\n",
    "\n",
    "    start_time = time.time()\n",
    "    find_sums(numbers)\n",
    "    duration = time.time() - start_time\n",
    "    print(f\"Duration {duration} seconds\")"
   ]
  },
  {
   "cell_type": "markdown",
   "id": "76200c80",
   "metadata": {},
   "source": [
    "__multiprocessing Version__"
   ]
  },
  {
   "cell_type": "code",
   "execution_count": null,
   "id": "a95ea7b9",
   "metadata": {},
   "outputs": [],
   "source": [
    "import multiprocessing\n",
    "import time\n",
    "\n",
    "def cpu_bound(number):\n",
    "    return sum()\n",
    "\n",
    "if __name__ == \"__main__\":\n",
    "    numbers = [5_000_000 + x for x in range(20)]\n",
    "    \n",
    "    start_time = time.time()\n",
    "    find_sums(numbers)\n",
    "    duration = time.time() - start_time\n",
    "    print(f\"Duration {duration} seconds\")"
   ]
  }
 ],
 "metadata": {
  "kernelspec": {
   "display_name": "Python 3 (ipykernel)",
   "language": "python",
   "name": "python3"
  },
  "language_info": {
   "codemirror_mode": {
    "name": "ipython",
    "version": 3
   },
   "file_extension": ".py",
   "mimetype": "text/x-python",
   "name": "python",
   "nbconvert_exporter": "python",
   "pygments_lexer": "ipython3",
   "version": "3.10.1"
  }
 },
 "nbformat": 4,
 "nbformat_minor": 5
}
